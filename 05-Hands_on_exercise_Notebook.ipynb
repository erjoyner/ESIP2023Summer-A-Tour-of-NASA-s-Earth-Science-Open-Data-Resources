{
  "cells": [
    {
      "cell_type": "markdown",
      "metadata": {
        "id": "42Zu7sAB8D4N"
      },
      "source": [
        "# How to Access the Hydrology Data Rods Time Series API\n",
        "\n",
        "### Overview\n",
        "\n",
        "This notebook describes accessing the [Hydrology Data Rods Time Series API](https://disc.gsfc.nasa.gov/information/tools?title=Hydrology%20Data%20Rods) using Python. It queries a grid nearest Newton, IL, and queries two months of hourly NLDAS hourly surface and top 1-meter soil precipitation totals. These variables are then plotted using Matplotlib.\n",
        "\n",
        "### Prerequisites\n",
        "\n",
        "This notebook was written using Python 3.9, and uses these libraries and files:\n",
        "\n",
        "- [requests](https://docs.python-requests.org/en/latest/) (version 2.22.0 or later)\n",
        "- [Pandas](https://pandas.pydata.org/docs/index.html)\n",
        "- [netCDF4](https://unidata.github.io/netcdf4-python/)\n",
        "- [Matplotlib](https://matplotlib.org/)\n",
        "- [Seaborn](https://seaborn.pydata.org/) (optional, used for our plot theme)\n"
      ]
    },
    {
      "cell_type": "markdown",
      "metadata": {
        "id": "XVpxlWXf8D4O"
      },
      "source": [
        "#### Import modules"
      ]
    },
    {
      "cell_type": "code",
      "execution_count": null,
      "metadata": {
        "id": "S5FfdOS58D4O"
      },
      "outputs": [],
      "source": [
        "import requests\n",
        "import pandas as pd\n",
        "from netCDF4 import Dataset\n",
        "import matplotlib.pyplot as plt\n",
        "import seaborn as sns\n",
        "sns.set_theme(style=\"darkgrid\")\n",
        "import urllib\n",
        "import urllib.parse as urlp\n",
        "import io\n",
        "import warnings\n",
        "warnings.filterwarnings(\"ignore\")\n",
        "\n",
        "%matplotlib inline"
      ]
    },
    {
      "cell_type": "markdown",
      "metadata": {
        "id": "VUQ5eJeW8D4P"
      },
      "source": [
        "#### Define function that creates the URL for calling the time series service\n"
      ]
    },
    {
      "cell_type": "code",
      "execution_count": null,
      "metadata": {
        "id": "Kx1n-tuA8D4P"
      },
      "outputs": [],
      "source": [
        "def get_time_series_url(start_date,end_date,latitude,longitude,variable):\n",
        "    \"\"\"\n",
        "    Calls the data rods service to get a time series\n",
        "    \"\"\"\n",
        "    base_url = \"https://hydro1.gesdisc.eosdis.nasa.gov/daac-bin/access/timeseries.cgi\"\n",
        "    query_parameters = {\n",
        "        \"variable\": variable,\n",
        "        \"type\": \"netcdf\",\n",
        "        \"location\": f\"GEOM:POINT({longitude}, {latitude})\",\n",
        "        \"startDate\": start_date,\n",
        "        \"endDate\": end_date,\n",
        "    }\n",
        "    full_url = base_url+\"?\"+ \\\n",
        "         \"&\".join([\"{}={}\".format(key,urlp.quote(query_parameters[key])) for key in query_parameters])\n",
        "    print(full_url)\n",
        "\n",
        "    return full_url"
      ]
    },
    {
      "cell_type": "markdown",
      "metadata": {
        "id": "aVxQ93K08D4Q"
      },
      "source": [
        "#### Call the time series data rods service with our requested URLs\n",
        "\n",
        "This query will return the center point of the closest grid, which is actually at 38.9375, -88.1875:\n",
        "\n",
        "https://goo.gl/maps/1seZXh8RfFVz2b8a8"
      ]
    },
    {
      "cell_type": "code",
      "execution_count": null,
      "metadata": {
        "id": "ytByC7qw8D4Q",
        "outputId": "5fa9e34e-ff86-4e33-a92f-361c56dd5f23",
        "colab": {
          "base_uri": "https://localhost:8080/"
        }
      },
      "outputs": [
        {
          "output_type": "stream",
          "name": "stdout",
          "text": [
            "https://hydro1.gesdisc.eosdis.nasa.gov/daac-bin/access/timeseries.cgi?variable=NLDAS%3ANLDAS_FORA0125_H.002%3AAPCPsfc&type=netcdf&location=GEOM%3APOINT%28-88.18%2C%2038.89%29&startDate=2022-07-01T00&endDate=2022-09-01T00\n",
            "https://hydro1.gesdisc.eosdis.nasa.gov/daac-bin/access/timeseries.cgi?variable=NLDAS%3ANLDAS_NOAH0125_H.002%3ASOILM0-100cm&type=netcdf&location=GEOM%3APOINT%28-88.18%2C%2038.89%29&startDate=2022-07-01T00&endDate=2022-09-01T00\n"
          ]
        }
      ],
      "source": [
        "precip_url = get_time_series_url(\n",
        "                    start_date=\"2022-07-01T00\", \n",
        "                    end_date=\"2022-09-01T00\",\n",
        "                    latitude=38.89,\n",
        "                    longitude=-88.18,\n",
        "                    variable=\"NLDAS:NLDAS_FORA0125_H.002:APCPsfc\"\n",
        "                )\n",
        "\n",
        "data = requests.get(precip_url).content\n",
        "ds_precip = Dataset('NLDAS:NLDAS_FORA0125_H.002:APCPsfc', memory=data)\n",
        "\n",
        "soil_url = get_time_series_url(\n",
        "                    start_date=\"2022-07-01T00\", \n",
        "                    end_date=\"2022-09-01T00\",\n",
        "                    latitude=38.89,\n",
        "                    longitude=-88.18,\n",
        "                    variable=\"NLDAS:NLDAS_NOAH0125_H.002:SOILM0-100cm\"\n",
        "                )\n",
        "\n",
        "data = requests.get(soil_url).content\n",
        "ds_soil = Dataset('NLDAS:NLDAS_NOAH0125_H.002:SOILM0-100cm', memory=data)"
      ]
    },
    {
      "cell_type": "markdown",
      "metadata": {
        "id": "ZX2_KSIX8D4R"
      },
      "source": [
        "#### Combine data into a single dataframe"
      ]
    },
    {
      "cell_type": "code",
      "execution_count": null,
      "metadata": {
        "id": "TOWobr2R8D4R",
        "outputId": "f5ae98e3-99ae-4adc-ef5a-01808fc0848f",
        "colab": {
          "base_uri": "https://localhost:8080/",
          "height": 206
        }
      },
      "outputs": [
        {
          "output_type": "execute_result",
          "data": {
            "text/plain": [
              "                 time  APCPsfc  SOILM0-100cm\n",
              "0 2022-07-01 00:00:00      0.0    266.481598\n",
              "1 2022-07-01 01:00:00      0.0    266.488007\n",
              "2 2022-07-01 02:00:00      0.0    266.519989\n",
              "3 2022-07-01 03:00:00      0.0    266.539215\n",
              "4 2022-07-01 04:00:00      0.0    266.558411"
            ],
            "text/html": [
              "\n",
              "  <div id=\"df-121ccd24-4248-4039-8a9e-b7cda7056c64\">\n",
              "    <div class=\"colab-df-container\">\n",
              "      <div>\n",
              "<style scoped>\n",
              "    .dataframe tbody tr th:only-of-type {\n",
              "        vertical-align: middle;\n",
              "    }\n",
              "\n",
              "    .dataframe tbody tr th {\n",
              "        vertical-align: top;\n",
              "    }\n",
              "\n",
              "    .dataframe thead th {\n",
              "        text-align: right;\n",
              "    }\n",
              "</style>\n",
              "<table border=\"1\" class=\"dataframe\">\n",
              "  <thead>\n",
              "    <tr style=\"text-align: right;\">\n",
              "      <th></th>\n",
              "      <th>time</th>\n",
              "      <th>APCPsfc</th>\n",
              "      <th>SOILM0-100cm</th>\n",
              "    </tr>\n",
              "  </thead>\n",
              "  <tbody>\n",
              "    <tr>\n",
              "      <th>0</th>\n",
              "      <td>2022-07-01 00:00:00</td>\n",
              "      <td>0.0</td>\n",
              "      <td>266.481598</td>\n",
              "    </tr>\n",
              "    <tr>\n",
              "      <th>1</th>\n",
              "      <td>2022-07-01 01:00:00</td>\n",
              "      <td>0.0</td>\n",
              "      <td>266.488007</td>\n",
              "    </tr>\n",
              "    <tr>\n",
              "      <th>2</th>\n",
              "      <td>2022-07-01 02:00:00</td>\n",
              "      <td>0.0</td>\n",
              "      <td>266.519989</td>\n",
              "    </tr>\n",
              "    <tr>\n",
              "      <th>3</th>\n",
              "      <td>2022-07-01 03:00:00</td>\n",
              "      <td>0.0</td>\n",
              "      <td>266.539215</td>\n",
              "    </tr>\n",
              "    <tr>\n",
              "      <th>4</th>\n",
              "      <td>2022-07-01 04:00:00</td>\n",
              "      <td>0.0</td>\n",
              "      <td>266.558411</td>\n",
              "    </tr>\n",
              "  </tbody>\n",
              "</table>\n",
              "</div>\n",
              "      <button class=\"colab-df-convert\" onclick=\"convertToInteractive('df-121ccd24-4248-4039-8a9e-b7cda7056c64')\"\n",
              "              title=\"Convert this dataframe to an interactive table.\"\n",
              "              style=\"display:none;\">\n",
              "        \n",
              "  <svg xmlns=\"http://www.w3.org/2000/svg\" height=\"24px\"viewBox=\"0 0 24 24\"\n",
              "       width=\"24px\">\n",
              "    <path d=\"M0 0h24v24H0V0z\" fill=\"none\"/>\n",
              "    <path d=\"M18.56 5.44l.94 2.06.94-2.06 2.06-.94-2.06-.94-.94-2.06-.94 2.06-2.06.94zm-11 1L8.5 8.5l.94-2.06 2.06-.94-2.06-.94L8.5 2.5l-.94 2.06-2.06.94zm10 10l.94 2.06.94-2.06 2.06-.94-2.06-.94-.94-2.06-.94 2.06-2.06.94z\"/><path d=\"M17.41 7.96l-1.37-1.37c-.4-.4-.92-.59-1.43-.59-.52 0-1.04.2-1.43.59L10.3 9.45l-7.72 7.72c-.78.78-.78 2.05 0 2.83L4 21.41c.39.39.9.59 1.41.59.51 0 1.02-.2 1.41-.59l7.78-7.78 2.81-2.81c.8-.78.8-2.07 0-2.86zM5.41 20L4 18.59l7.72-7.72 1.47 1.35L5.41 20z\"/>\n",
              "  </svg>\n",
              "      </button>\n",
              "      \n",
              "  <style>\n",
              "    .colab-df-container {\n",
              "      display:flex;\n",
              "      flex-wrap:wrap;\n",
              "      gap: 12px;\n",
              "    }\n",
              "\n",
              "    .colab-df-convert {\n",
              "      background-color: #E8F0FE;\n",
              "      border: none;\n",
              "      border-radius: 50%;\n",
              "      cursor: pointer;\n",
              "      display: none;\n",
              "      fill: #1967D2;\n",
              "      height: 32px;\n",
              "      padding: 0 0 0 0;\n",
              "      width: 32px;\n",
              "    }\n",
              "\n",
              "    .colab-df-convert:hover {\n",
              "      background-color: #E2EBFA;\n",
              "      box-shadow: 0px 1px 2px rgba(60, 64, 67, 0.3), 0px 1px 3px 1px rgba(60, 64, 67, 0.15);\n",
              "      fill: #174EA6;\n",
              "    }\n",
              "\n",
              "    [theme=dark] .colab-df-convert {\n",
              "      background-color: #3B4455;\n",
              "      fill: #D2E3FC;\n",
              "    }\n",
              "\n",
              "    [theme=dark] .colab-df-convert:hover {\n",
              "      background-color: #434B5C;\n",
              "      box-shadow: 0px 1px 3px 1px rgba(0, 0, 0, 0.15);\n",
              "      filter: drop-shadow(0px 1px 2px rgba(0, 0, 0, 0.3));\n",
              "      fill: #FFFFFF;\n",
              "    }\n",
              "  </style>\n",
              "\n",
              "      <script>\n",
              "        const buttonEl =\n",
              "          document.querySelector('#df-121ccd24-4248-4039-8a9e-b7cda7056c64 button.colab-df-convert');\n",
              "        buttonEl.style.display =\n",
              "          google.colab.kernel.accessAllowed ? 'block' : 'none';\n",
              "\n",
              "        async function convertToInteractive(key) {\n",
              "          const element = document.querySelector('#df-121ccd24-4248-4039-8a9e-b7cda7056c64');\n",
              "          const dataTable =\n",
              "            await google.colab.kernel.invokeFunction('convertToInteractive',\n",
              "                                                     [key], {});\n",
              "          if (!dataTable) return;\n",
              "\n",
              "          const docLinkHtml = 'Like what you see? Visit the ' +\n",
              "            '<a target=\"_blank\" href=https://colab.research.google.com/notebooks/data_table.ipynb>data table notebook</a>'\n",
              "            + ' to learn more about interactive tables.';\n",
              "          element.innerHTML = '';\n",
              "          dataTable['output_type'] = 'display_data';\n",
              "          await google.colab.output.renderOutput(dataTable, element);\n",
              "          const docLink = document.createElement('div');\n",
              "          docLink.innerHTML = docLinkHtml;\n",
              "          element.appendChild(docLink);\n",
              "        }\n",
              "      </script>\n",
              "    </div>\n",
              "  </div>\n",
              "  "
            ]
          },
          "metadata": {},
          "execution_count": 4
        }
      ],
      "source": [
        "d = {'time': pd.to_datetime(ds_precip['time'][:], unit='s'), \n",
        "    'APCPsfc': ds_precip['APCPsfc'][:,0,0], \n",
        "    'SOILM0-100cm': ds_soil['SOILM0-100cm'][:,0,0]}\n",
        "    \n",
        "df = pd.DataFrame(data=d)\n",
        "df.head()"
      ]
    },
    {
      "cell_type": "markdown",
      "metadata": {
        "id": "I97pi_fx8D4R"
      },
      "source": [
        "#### Plot using Matplotlib"
      ]
    },
    {
      "cell_type": "code",
      "execution_count": null,
      "metadata": {
        "id": "LLg3G1Kl8D4S",
        "outputId": "a04e6834-1240-4413-ecd0-04d7577c574c",
        "colab": {
          "base_uri": "https://localhost:8080/",
          "height": 578
        }
      },
      "outputs": [
        {
          "output_type": "execute_result",
          "data": {
            "text/plain": [
              "''"
            ],
            "application/vnd.google.colaboratory.intrinsic+json": {
              "type": "string"
            }
          },
          "metadata": {},
          "execution_count": 5
        },
        {
          "output_type": "display_data",
          "data": {
            "text/plain": [
              "<Figure size 1512x576 with 2 Axes>"
            ],
            "image/png": "[encoded data removed]"
          },
          "metadata": {
            "needs_background": "light"
          }
        }
      ],
      "source": [
        "fig, (ax1, ax2) = plt.subplots(2, figsize=(21, 8), sharex=True)\n",
        "#ax2 = ax1.twinx()\n",
        "\n",
        "# Convert to mm, aggregate over days and months\n",
        "daily_precip = df[['time', 'APCPsfc']].groupby(pd.Grouper(key='time', freq='1D')).sum().reset_index()\n",
        "daily_soil = df[['time', 'SOILM0-100cm']].groupby(pd.Grouper(key='time', freq='1D')).mean().reset_index()\n",
        "\n",
        "ax1.plot(daily_precip[\"time\"], daily_precip[\"APCPsfc\"], color=\"blue\")\n",
        "ax1.set_ylim(-2, 150)\n",
        "ax1.legend([\"APCPsfc\"])\n",
        "ax1.set_ylabel(\"Daily Precipitation (mm)\")\n",
        "\n",
        "ax2.fill_between(daily_soil[\"time\"], 200, daily_soil[\"SOILM0-100cm\"], color=\"green\", alpha=0.25)\n",
        "ax2.set_ylim(198, 400)\n",
        "ax2.legend([\"SOILM0-100cm\"])\n",
        "ax2.set_ylabel(\"Top 1m Soil Moisture Content (mm)\")\n",
        "ax2.set_xlabel(\"Date\")\n",
        "\n",
        "fig.suptitle(\"NLDAS Hourly APCPsfc and SOILM0-100cm (38.9375, -88.1875) from 2022-07-01T00 - 2022-09-01T00\", size=15)\n",
        "  \n",
        ";"
      ]
    },
    {
      "cell_type": "code",
      "execution_count": null,
      "metadata": {
        "id": "3gVdCpy28D4S"
      },
      "outputs": [],
      "source": []
    }
  ],
  "metadata": {
    "kernelspec": {
      "display_name": "Python 3.9.12 ('base')",
      "language": "python",
      "name": "python3"
    },
    "language_info": {
      "codemirror_mode": {
        "name": "ipython",
        "version": 3
      },
      "file_extension": ".py",
      "mimetype": "text/x-python",
      "name": "python",
      "nbconvert_exporter": "python",
      "pygments_lexer": "ipython3",
      "version": "3.9.12"
    },
    "orig_nbformat": 4,
    "vscode": {
      "interpreter": {
        "hash": "6e2a53b7f731e108ce587957058115707d8b5b9f5409c1d7eb9760e593c87f6d"
      }
    },
    "colab": {
      "provenance": []
    }
  },
  "nbformat": 4,
  "nbformat_minor": 0
}